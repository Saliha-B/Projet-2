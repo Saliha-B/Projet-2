{
 "cells": [
  {
   "cell_type": "markdown",
   "metadata": {},
   "source": [
    "# TP ML 2\n",
    "\n",
    "# Prédiction Banquerout d'entreprises\n",
    "\n",
    "<img src=\"https://storage.googleapis.com/kaggle-datasets-images/1111894/1867854/9b0132b0987030326d18efdf59937437/dataset-cover.png?t=2021-01-22-08-15-32\">\n",
    "\n",
    "### Le contexte\n",
    "\n",
    "Les données ont été collectées auprès du Taiwan Economic Journal pour les années 1999 à 2009. La faillite de l'entreprise a été définie sur la base des règlements commerciaux de la Bourse de Taiwan.\n",
    "\n",
    "### Description des données\n",
    "\n",
    "|Feature| Description|\n",
    "|:------|:-----------|\n",
    "|Y| Banquerout?: Étiquette de classe|\n",
    "|X1| ROA (C) avant intérêts et amortissement avant intérêts: rendement de l'actif total (C)|\n",
    "|X2| ROA (A) avant intérêts et% après impôts: rendement de l'actif total (A)|\n",
    "|X3| ROA (B) avant intérêts et amortissements après impôts: rendement de l'actif total (B)|\n",
    "|X4| Marge brute d'exploitation: bénéfice brut / ventes nettes|\n",
    "|X5| Marge brute des ventes réalisées: Bénéfice brut réalisé / ventes nettes|\n",
    "|X6| Taux de bénéfice d'exploitation: bénéfice d'exploitation / ventes nettes|\n",
    "|X7| Taux d'intérêt net avant impôt: revenu avant impôt / ventes nettes|\n",
    "|X8| Taux d'intérêt net après impôt: bénéfice net / ventes nettes|\n",
    "|X9| Revenus et dépenses / revenus non industriels: Ratio du revenu net hors exploitation|\n",
    "|X10| Taux d'intérêt continu (après impôt): Revenu net - Excluez le gain ou la perte de cession / les ventes |nettes\n",
    "|X11| Taux de dépenses d'exploitation: dépenses d'exploitation / ventes nettes|\n",
    "|X12| Taux de frais de recherche et développement: (Frais de recherche et développement) / Chiffre d'affaires|\n",
    "|X13| Taux de trésorerie: Flux de trésorerie provenant des passifs opérationnels / courants|\n",
    "|X14| Taux d'intérêt de la dette portant intérêt: Dette / capitaux propres portant intérêt|\n",
    "|X15| Taux d'imposition (A): Taux d'imposition effectif|\n",
    "|X16| Valeur nette par action (B): Valeur comptable par action (B)|\n",
    "|X17| Valeur nette par action (A): valeur comptable par action (A)|\n",
    "|X18| Valeur nette par action (C): Valeur comptable par action (C)|\n",
    "|X19| BPA persistant au cours des quatre dernières saisons: BPA-Bénéfice net|\n",
    "|X20| Flux de trésorerie par action|\n",
    "|X21| Revenu par action (Yuan ¥): ventes par action|\n",
    "|X22| Bénéfice d'exploitation par action (Yuan ¥): bénéfice d'exploitation par action|\n",
    "|X23| Bénéfice net par action avant impôts (Yuan ¥): revenu avant impôts par action|\n",
    "|X24| Taux de croissance du bénéfice brut des ventes réalisées|\n",
    "|X25| Taux de croissance du bénéfice d'exploitation: croissance du bénéfice d'exploitation|\n",
    "|X26| Taux de croissance du bénéfice net après impôt: Croissance du revenu net|\n",
    "|X27| Taux de croissance régulier du bénéfice net: bénéfice d'exploitation continu après croissance fiscale|\n",
    "|X28| Taux de croissance continue du bénéfice net: bénéfice net - croissance des gains ou pertes de cession non |compris\n",
    "|X29| Taux de croissance de l'actif total: Croissance totale de l'actif|\n",
    "|X30| Taux de croissance de la valeur nette: Croissance totale des actions|\n",
    "|X31| Ratio du taux de croissance du rendement total de l'actif: rendement de la croissance totale de l'actif|\n",
    "|X32| % Réinvestissement en espèces: ratio de réinvestissement en espèces|\n",
    "|X33| Ratio actuel|\n",
    "|X34| Ratio rapide: test d'acide|\n",
    "|X35| Ratio des frais d'intérêt: frais d'intérêt / revenu total|\n",
    "|X36| Dette totale / valeur nette totale: ratio passif total / capitaux propres|\n",
    "|X37| Taux d'endettement%: passif / actif total|\n",
    "|X38| Valeur nette / Actif: Capitaux propres / Actif total|\n",
    "|X39| Ratio d'adéquation des fonds à long terme (A): (passif à long terme + capitaux propres) / immobilisations|\n",
    "|X40| Dépendance à l'emprunt: coût de la dette portant intérêt|\n",
    "|X41| Passifs éventuels / Valeur nette: Passifs éventuels / Capitaux propres|\n",
    "|X42| Bénéfice d'exploitation / capital versé: résultat d'exploitation / capital|\n",
    "|X43| Bénéfice net avant impôt / capital versé: revenu avant impôt / capital|\n",
    "|X44| Inventaire et comptes clients / Valeur nette: (inventaire + comptes clients) / Capitaux propres|\n",
    "|X45| Rotation totale des actifs|\n",
    "|X46| Rotation des comptes clients|\n",
    "|X47| Jours de collecte moyens: jours à recevoir en souffrance|\n",
    "|X48| Taux de rotation des stocks (fois)|\n",
    "|X49| Fréquence de rotation des immobilisations|\n",
    "|X50| Taux de rotation de la valeur nette (fois): rotation des actions|\n",
    "|X51| Revenu par personne: ventes par employé|\n",
    "|X52| Bénéfice d'exploitation par personne: revenu d'exploitation par employé|\n",
    "|X53| Taux d'allocation par personne: Immobilisations par employé|\n",
    "|X54| Fonds de roulement par rapport au total des actifs|\n",
    "|X55| Actifs rapides / Actifs totaux|\n",
    "|X56| Actif courant / Actif total|\n",
    "|X57| Trésorerie / actif total|\n",
    "|X58| Actifs rapides / responsabilité actuelle|\n",
    "|X59| Trésorerie / responsabilité courante|\n",
    "|X60| Responsabilité actuelle envers les actifs|\n",
    "|X61| Fonds de fonctionnement à responsabilité|\n",
    "|X62| Inventaire / Fonds de roulement|\n",
    "|X63| Inventaire / responsabilité actuelle|\n",
    "|X64| Passif / responsabilité actuelle|\n",
    "|X65| Fonds de roulement / capitaux propres|\n",
    "|X66| Passifs / capitaux propres courants|\n",
    "|X67| Responsabilité à long terme sur les actifs courants|\n",
    "|X68| Bénéfices non répartis par rapport au total de l'actif|\n",
    "|X69| Revenu total / Dépense totale|\n",
    "|X70| Total des dépenses / actifs|\n",
    "|X71| Taux de rotation actuel des actifs: actifs actuels par rapport aux ventes|\n",
    "|X72| Taux de rotation rapide des actifs: des actifs rapides aux ventes|\n",
    "|X73| Taux de rotation du fonds de roulement: fonds de roulement par rapport aux ventes|\n",
    "|X74| Taux de rotation en espèces: Cash to Sales|\n",
    "|X75| Flux de trésorerie vers les ventes|\n",
    "|X76| Immobilisations aux actifs|\n",
    "|X77| Responsabilité actuelle en matière de responsabilité|\n",
    "|X78| Responsabilité actuelle envers les capitaux propres|\n",
    "|X79| Équité sur responsabilité à long terme|\n",
    "|X80| Flux de trésorerie par rapport au total des actifs|\n",
    "|X81| Flux de trésorerie au passif|\n",
    "|X82| CFO aux actifs|\n",
    "|X83| Flux de trésorerie en capitaux propres|\n",
    "|X84| Responsabilité actuelle envers les actifs courants|\n",
    "|X85| Indicateur de passif-actifs: 1 si le passif total dépasse le total de l'actif, 0 sinon|\n",
    "|X86| Revenu net par rapport au total de l'actif|\n",
    "|X87| Total des actifs au prix PNB|\n",
    "|X88| Intervalle sans crédit|\n",
    "|X89| Bénéfice brut aux ventes|\n",
    "|X90| Revenu net aux capitaux propres|\n",
    "|X91| Responsabilité envers les capitaux propres|\n",
    "|X92| Degré de levier financier (LDF)|\n",
    "|X93| Ratio de couverture des intérêts (frais d'intérêts sur EBIT)|\n",
    "|X94| Indicateur de revenu net: 1 si le revenu net est négatif pour les deux dernières années, 0 sinon|\n",
    "|X95| Équité en responsabilité|"
   ]
  },
  {
   "cell_type": "code",
   "execution_count": 1,
   "metadata": {},
   "outputs": [
    {
     "name": "stdout",
     "output_type": "stream",
     "text": [
      "Requirement already satisfied: lightgbm in c:\\users\\33613\\anaconda3\\lib\\site-packages (4.4.0)\n",
      "Requirement already satisfied: numpy>=1.17.0 in c:\\users\\33613\\anaconda3\\lib\\site-packages (from lightgbm) (1.20.3)\n",
      "Requirement already satisfied: scipy in c:\\users\\33613\\anaconda3\\lib\\site-packages (from lightgbm) (1.7.1)\n",
      "Note: you may need to restart the kernel to use updated packages.\n"
     ]
    }
   ],
   "source": [
    "pip install lightgbm"
   ]
  },
  {
   "cell_type": "code",
   "execution_count": 2,
   "metadata": {},
   "outputs": [],
   "source": [
    "import numpy as np\n",
    "import pandas as pd\n",
    "import matplotlib.pyplot as plt\n",
    "import lightgbm as lgb\n",
    "from sklearn.ensemble import RandomForestClassifier, GradientBoostingClassifier\n",
    "from sklearn.model_selection import train_test_split\n"
   ]
  },
  {
   "cell_type": "markdown",
   "metadata": {},
   "source": [
    "### 1. Complément d' import (les métriques de validation de modèles)"
   ]
  },
  {
   "cell_type": "code",
   "execution_count": 3,
   "metadata": {},
   "outputs": [],
   "source": [
    "# Métriques de performances :\n",
    "from sklearn.metrics import precision_score, recall_score, confusion_matrix, classification_report, \\\n",
    "                            accuracy_score, f1_score, roc_auc_score, \\\n",
    "                            roc_curve, auc"
   ]
  },
  {
   "cell_type": "code",
   "execution_count": 4,
   "metadata": {
    "scrolled": true
   },
   "outputs": [
    {
     "data": {
      "text/html": [
       "<div>\n",
       "<style scoped>\n",
       "    .dataframe tbody tr th:only-of-type {\n",
       "        vertical-align: middle;\n",
       "    }\n",
       "\n",
       "    .dataframe tbody tr th {\n",
       "        vertical-align: top;\n",
       "    }\n",
       "\n",
       "    .dataframe thead th {\n",
       "        text-align: right;\n",
       "    }\n",
       "</style>\n",
       "<table border=\"1\" class=\"dataframe\">\n",
       "  <thead>\n",
       "    <tr style=\"text-align: right;\">\n",
       "      <th></th>\n",
       "      <th>Bankrupt?</th>\n",
       "      <th>ROA(C) before interest and depreciation before interest</th>\n",
       "      <th>ROA(A) before interest and % after tax</th>\n",
       "      <th>ROA(B) before interest and depreciation after tax</th>\n",
       "      <th>Operating Gross Margin</th>\n",
       "      <th>Realized Sales Gross Margin</th>\n",
       "      <th>Operating Profit Rate</th>\n",
       "      <th>Pre-tax net Interest Rate</th>\n",
       "      <th>After-tax net Interest Rate</th>\n",
       "      <th>Non-industry income and expenditure/revenue</th>\n",
       "      <th>...</th>\n",
       "      <th>Net Income to Total Assets</th>\n",
       "      <th>Total assets to GNP price</th>\n",
       "      <th>No-credit Interval</th>\n",
       "      <th>Gross Profit to Sales</th>\n",
       "      <th>Net Income to Stockholder's Equity</th>\n",
       "      <th>Liability to Equity</th>\n",
       "      <th>Degree of Financial Leverage (DFL)</th>\n",
       "      <th>Interest Coverage Ratio (Interest expense to EBIT)</th>\n",
       "      <th>Net Income Flag</th>\n",
       "      <th>Equity to Liability</th>\n",
       "    </tr>\n",
       "  </thead>\n",
       "  <tbody>\n",
       "    <tr>\n",
       "      <th>0</th>\n",
       "      <td>1</td>\n",
       "      <td>0.370594</td>\n",
       "      <td>0.424389</td>\n",
       "      <td>0.405750</td>\n",
       "      <td>0.601457</td>\n",
       "      <td>0.601457</td>\n",
       "      <td>0.998969</td>\n",
       "      <td>0.796887</td>\n",
       "      <td>0.808809</td>\n",
       "      <td>0.302646</td>\n",
       "      <td>...</td>\n",
       "      <td>0.716845</td>\n",
       "      <td>0.009219</td>\n",
       "      <td>0.622879</td>\n",
       "      <td>0.601453</td>\n",
       "      <td>0.827890</td>\n",
       "      <td>0.290202</td>\n",
       "      <td>0.026601</td>\n",
       "      <td>0.564050</td>\n",
       "      <td>1</td>\n",
       "      <td>0.016469</td>\n",
       "    </tr>\n",
       "    <tr>\n",
       "      <th>1</th>\n",
       "      <td>1</td>\n",
       "      <td>0.464291</td>\n",
       "      <td>0.538214</td>\n",
       "      <td>0.516730</td>\n",
       "      <td>0.610235</td>\n",
       "      <td>0.610235</td>\n",
       "      <td>0.998946</td>\n",
       "      <td>0.797380</td>\n",
       "      <td>0.809301</td>\n",
       "      <td>0.303556</td>\n",
       "      <td>...</td>\n",
       "      <td>0.795297</td>\n",
       "      <td>0.008323</td>\n",
       "      <td>0.623652</td>\n",
       "      <td>0.610237</td>\n",
       "      <td>0.839969</td>\n",
       "      <td>0.283846</td>\n",
       "      <td>0.264577</td>\n",
       "      <td>0.570175</td>\n",
       "      <td>1</td>\n",
       "      <td>0.020794</td>\n",
       "    </tr>\n",
       "    <tr>\n",
       "      <th>2</th>\n",
       "      <td>1</td>\n",
       "      <td>0.426071</td>\n",
       "      <td>0.499019</td>\n",
       "      <td>0.472295</td>\n",
       "      <td>0.601450</td>\n",
       "      <td>0.601364</td>\n",
       "      <td>0.998857</td>\n",
       "      <td>0.796403</td>\n",
       "      <td>0.808388</td>\n",
       "      <td>0.302035</td>\n",
       "      <td>...</td>\n",
       "      <td>0.774670</td>\n",
       "      <td>0.040003</td>\n",
       "      <td>0.623841</td>\n",
       "      <td>0.601449</td>\n",
       "      <td>0.836774</td>\n",
       "      <td>0.290189</td>\n",
       "      <td>0.026555</td>\n",
       "      <td>0.563706</td>\n",
       "      <td>1</td>\n",
       "      <td>0.016474</td>\n",
       "    </tr>\n",
       "    <tr>\n",
       "      <th>3</th>\n",
       "      <td>1</td>\n",
       "      <td>0.399844</td>\n",
       "      <td>0.451265</td>\n",
       "      <td>0.457733</td>\n",
       "      <td>0.583541</td>\n",
       "      <td>0.583541</td>\n",
       "      <td>0.998700</td>\n",
       "      <td>0.796967</td>\n",
       "      <td>0.808966</td>\n",
       "      <td>0.303350</td>\n",
       "      <td>...</td>\n",
       "      <td>0.739555</td>\n",
       "      <td>0.003252</td>\n",
       "      <td>0.622929</td>\n",
       "      <td>0.583538</td>\n",
       "      <td>0.834697</td>\n",
       "      <td>0.281721</td>\n",
       "      <td>0.026697</td>\n",
       "      <td>0.564663</td>\n",
       "      <td>1</td>\n",
       "      <td>0.023982</td>\n",
       "    </tr>\n",
       "    <tr>\n",
       "      <th>4</th>\n",
       "      <td>1</td>\n",
       "      <td>0.465022</td>\n",
       "      <td>0.538432</td>\n",
       "      <td>0.522298</td>\n",
       "      <td>0.598783</td>\n",
       "      <td>0.598783</td>\n",
       "      <td>0.998973</td>\n",
       "      <td>0.797366</td>\n",
       "      <td>0.809304</td>\n",
       "      <td>0.303475</td>\n",
       "      <td>...</td>\n",
       "      <td>0.795016</td>\n",
       "      <td>0.003878</td>\n",
       "      <td>0.623521</td>\n",
       "      <td>0.598782</td>\n",
       "      <td>0.839973</td>\n",
       "      <td>0.278514</td>\n",
       "      <td>0.024752</td>\n",
       "      <td>0.575617</td>\n",
       "      <td>1</td>\n",
       "      <td>0.035490</td>\n",
       "    </tr>\n",
       "  </tbody>\n",
       "</table>\n",
       "<p>5 rows × 96 columns</p>\n",
       "</div>"
      ],
      "text/plain": [
       "   Bankrupt?   ROA(C) before interest and depreciation before interest  \\\n",
       "0          1                                           0.370594          \n",
       "1          1                                           0.464291          \n",
       "2          1                                           0.426071          \n",
       "3          1                                           0.399844          \n",
       "4          1                                           0.465022          \n",
       "\n",
       "    ROA(A) before interest and % after tax  \\\n",
       "0                                 0.424389   \n",
       "1                                 0.538214   \n",
       "2                                 0.499019   \n",
       "3                                 0.451265   \n",
       "4                                 0.538432   \n",
       "\n",
       "    ROA(B) before interest and depreciation after tax  \\\n",
       "0                                           0.405750    \n",
       "1                                           0.516730    \n",
       "2                                           0.472295    \n",
       "3                                           0.457733    \n",
       "4                                           0.522298    \n",
       "\n",
       "    Operating Gross Margin   Realized Sales Gross Margin  \\\n",
       "0                 0.601457                      0.601457   \n",
       "1                 0.610235                      0.610235   \n",
       "2                 0.601450                      0.601364   \n",
       "3                 0.583541                      0.583541   \n",
       "4                 0.598783                      0.598783   \n",
       "\n",
       "    Operating Profit Rate   Pre-tax net Interest Rate  \\\n",
       "0                0.998969                    0.796887   \n",
       "1                0.998946                    0.797380   \n",
       "2                0.998857                    0.796403   \n",
       "3                0.998700                    0.796967   \n",
       "4                0.998973                    0.797366   \n",
       "\n",
       "    After-tax net Interest Rate   Non-industry income and expenditure/revenue  \\\n",
       "0                      0.808809                                      0.302646   \n",
       "1                      0.809301                                      0.303556   \n",
       "2                      0.808388                                      0.302035   \n",
       "3                      0.808966                                      0.303350   \n",
       "4                      0.809304                                      0.303475   \n",
       "\n",
       "   ...   Net Income to Total Assets   Total assets to GNP price  \\\n",
       "0  ...                     0.716845                    0.009219   \n",
       "1  ...                     0.795297                    0.008323   \n",
       "2  ...                     0.774670                    0.040003   \n",
       "3  ...                     0.739555                    0.003252   \n",
       "4  ...                     0.795016                    0.003878   \n",
       "\n",
       "    No-credit Interval   Gross Profit to Sales  \\\n",
       "0             0.622879                0.601453   \n",
       "1             0.623652                0.610237   \n",
       "2             0.623841                0.601449   \n",
       "3             0.622929                0.583538   \n",
       "4             0.623521                0.598782   \n",
       "\n",
       "    Net Income to Stockholder's Equity   Liability to Equity  \\\n",
       "0                             0.827890              0.290202   \n",
       "1                             0.839969              0.283846   \n",
       "2                             0.836774              0.290189   \n",
       "3                             0.834697              0.281721   \n",
       "4                             0.839973              0.278514   \n",
       "\n",
       "    Degree of Financial Leverage (DFL)  \\\n",
       "0                             0.026601   \n",
       "1                             0.264577   \n",
       "2                             0.026555   \n",
       "3                             0.026697   \n",
       "4                             0.024752   \n",
       "\n",
       "    Interest Coverage Ratio (Interest expense to EBIT)   Net Income Flag  \\\n",
       "0                                           0.564050                   1   \n",
       "1                                           0.570175                   1   \n",
       "2                                           0.563706                   1   \n",
       "3                                           0.564663                   1   \n",
       "4                                           0.575617                   1   \n",
       "\n",
       "    Equity to Liability  \n",
       "0              0.016469  \n",
       "1              0.020794  \n",
       "2              0.016474  \n",
       "3              0.023982  \n",
       "4              0.035490  \n",
       "\n",
       "[5 rows x 96 columns]"
      ]
     },
     "execution_count": 4,
     "metadata": {},
     "output_type": "execute_result"
    }
   ],
   "source": [
    "# Importation des données, vérification le bon chargement, les infos, et la présence de doublons\n",
    "df = pd.read_csv(\"data/company.csv\")\n",
    "df.head()"
   ]
  },
  {
   "cell_type": "code",
   "execution_count": 5,
   "metadata": {},
   "outputs": [
    {
     "data": {
      "text/plain": [
       "0"
      ]
     },
     "execution_count": 5,
     "metadata": {},
     "output_type": "execute_result"
    }
   ],
   "source": [
    "df.duplicated().sum()"
   ]
  },
  {
   "cell_type": "code",
   "execution_count": 6,
   "metadata": {},
   "outputs": [
    {
     "data": {
      "text/plain": [
       "0"
      ]
     },
     "execution_count": 6,
     "metadata": {},
     "output_type": "execute_result"
    }
   ],
   "source": [
    "# Pas de valeur manquante, le jeu de données est propre \n",
    "df.isnull().sum().max()"
   ]
  },
  {
   "cell_type": "code",
   "execution_count": 7,
   "metadata": {
    "scrolled": true
   },
   "outputs": [
    {
     "name": "stdout",
     "output_type": "stream",
     "text": [
      "<class 'pandas.core.frame.DataFrame'>\n",
      "RangeIndex: 6819 entries, 0 to 6818\n",
      "Data columns (total 96 columns):\n",
      " #   Column                                                    Non-Null Count  Dtype  \n",
      "---  ------                                                    --------------  -----  \n",
      " 0   Bankrupt?                                                 6819 non-null   int64  \n",
      " 1    ROA(C) before interest and depreciation before interest  6819 non-null   float64\n",
      " 2    ROA(A) before interest and % after tax                   6819 non-null   float64\n",
      " 3    ROA(B) before interest and depreciation after tax        6819 non-null   float64\n",
      " 4    Operating Gross Margin                                   6819 non-null   float64\n",
      " 5    Realized Sales Gross Margin                              6819 non-null   float64\n",
      " 6    Operating Profit Rate                                    6819 non-null   float64\n",
      " 7    Pre-tax net Interest Rate                                6819 non-null   float64\n",
      " 8    After-tax net Interest Rate                              6819 non-null   float64\n",
      " 9    Non-industry income and expenditure/revenue              6819 non-null   float64\n",
      " 10   Continuous interest rate (after tax)                     6819 non-null   float64\n",
      " 11   Operating Expense Rate                                   6819 non-null   float64\n",
      " 12   Research and development expense rate                    6819 non-null   float64\n",
      " 13   Cash flow rate                                           6819 non-null   float64\n",
      " 14   Interest-bearing debt interest rate                      6819 non-null   float64\n",
      " 15   Tax rate (A)                                             6819 non-null   float64\n",
      " 16   Net Value Per Share (B)                                  6819 non-null   float64\n",
      " 17   Net Value Per Share (A)                                  6819 non-null   float64\n",
      " 18   Net Value Per Share (C)                                  6819 non-null   float64\n",
      " 19   Persistent EPS in the Last Four Seasons                  6819 non-null   float64\n",
      " 20   Cash Flow Per Share                                      6819 non-null   float64\n",
      " 21   Revenue Per Share (Yuan ¥)                               6819 non-null   float64\n",
      " 22   Operating Profit Per Share (Yuan ¥)                      6819 non-null   float64\n",
      " 23   Per Share Net profit before tax (Yuan ¥)                 6819 non-null   float64\n",
      " 24   Realized Sales Gross Profit Growth Rate                  6819 non-null   float64\n",
      " 25   Operating Profit Growth Rate                             6819 non-null   float64\n",
      " 26   After-tax Net Profit Growth Rate                         6819 non-null   float64\n",
      " 27   Regular Net Profit Growth Rate                           6819 non-null   float64\n",
      " 28   Continuous Net Profit Growth Rate                        6819 non-null   float64\n",
      " 29   Total Asset Growth Rate                                  6819 non-null   float64\n",
      " 30   Net Value Growth Rate                                    6819 non-null   float64\n",
      " 31   Total Asset Return Growth Rate Ratio                     6819 non-null   float64\n",
      " 32   Cash Reinvestment %                                      6819 non-null   float64\n",
      " 33   Current Ratio                                            6819 non-null   float64\n",
      " 34   Quick Ratio                                              6819 non-null   float64\n",
      " 35   Interest Expense Ratio                                   6819 non-null   float64\n",
      " 36   Total debt/Total net worth                               6819 non-null   float64\n",
      " 37   Debt ratio %                                             6819 non-null   float64\n",
      " 38   Net worth/Assets                                         6819 non-null   float64\n",
      " 39   Long-term fund suitability ratio (A)                     6819 non-null   float64\n",
      " 40   Borrowing dependency                                     6819 non-null   float64\n",
      " 41   Contingent liabilities/Net worth                         6819 non-null   float64\n",
      " 42   Operating profit/Paid-in capital                         6819 non-null   float64\n",
      " 43   Net profit before tax/Paid-in capital                    6819 non-null   float64\n",
      " 44   Inventory and accounts receivable/Net value              6819 non-null   float64\n",
      " 45   Total Asset Turnover                                     6819 non-null   float64\n",
      " 46   Accounts Receivable Turnover                             6819 non-null   float64\n",
      " 47   Average Collection Days                                  6819 non-null   float64\n",
      " 48   Inventory Turnover Rate (times)                          6819 non-null   float64\n",
      " 49   Fixed Assets Turnover Frequency                          6819 non-null   float64\n",
      " 50   Net Worth Turnover Rate (times)                          6819 non-null   float64\n",
      " 51   Revenue per person                                       6819 non-null   float64\n",
      " 52   Operating profit per person                              6819 non-null   float64\n",
      " 53   Allocation rate per person                               6819 non-null   float64\n",
      " 54   Working Capital to Total Assets                          6819 non-null   float64\n",
      " 55   Quick Assets/Total Assets                                6819 non-null   float64\n",
      " 56   Current Assets/Total Assets                              6819 non-null   float64\n",
      " 57   Cash/Total Assets                                        6819 non-null   float64\n",
      " 58   Quick Assets/Current Liability                           6819 non-null   float64\n",
      " 59   Cash/Current Liability                                   6819 non-null   float64\n",
      " 60   Current Liability to Assets                              6819 non-null   float64\n",
      " 61   Operating Funds to Liability                             6819 non-null   float64\n",
      " 62   Inventory/Working Capital                                6819 non-null   float64\n",
      " 63   Inventory/Current Liability                              6819 non-null   float64\n",
      " 64   Current Liabilities/Liability                            6819 non-null   float64\n",
      " 65   Working Capital/Equity                                   6819 non-null   float64\n",
      " 66   Current Liabilities/Equity                               6819 non-null   float64\n",
      " 67   Long-term Liability to Current Assets                    6819 non-null   float64\n",
      " 68   Retained Earnings to Total Assets                        6819 non-null   float64\n",
      " 69   Total income/Total expense                               6819 non-null   float64\n",
      " 70   Total expense/Assets                                     6819 non-null   float64\n",
      " 71   Current Asset Turnover Rate                              6819 non-null   float64\n",
      " 72   Quick Asset Turnover Rate                                6819 non-null   float64\n",
      " 73   Working capitcal Turnover Rate                           6819 non-null   float64\n",
      " 74   Cash Turnover Rate                                       6819 non-null   float64\n",
      " 75   Cash Flow to Sales                                       6819 non-null   float64\n",
      " 76   Fixed Assets to Assets                                   6819 non-null   float64\n",
      " 77   Current Liability to Liability                           6819 non-null   float64\n",
      " 78   Current Liability to Equity                              6819 non-null   float64\n",
      " 79   Equity to Long-term Liability                            6819 non-null   float64\n",
      " 80   Cash Flow to Total Assets                                6819 non-null   float64\n",
      " 81   Cash Flow to Liability                                   6819 non-null   float64\n",
      " 82   CFO to Assets                                            6819 non-null   float64\n",
      " 83   Cash Flow to Equity                                      6819 non-null   float64\n",
      " 84   Current Liability to Current Assets                      6819 non-null   float64\n",
      " 85   Liability-Assets Flag                                    6819 non-null   int64  \n",
      " 86   Net Income to Total Assets                               6819 non-null   float64\n",
      " 87   Total assets to GNP price                                6819 non-null   float64\n",
      " 88   No-credit Interval                                       6819 non-null   float64\n",
      " 89   Gross Profit to Sales                                    6819 non-null   float64\n",
      " 90   Net Income to Stockholder's Equity                       6819 non-null   float64\n",
      " 91   Liability to Equity                                      6819 non-null   float64\n",
      " 92   Degree of Financial Leverage (DFL)                       6819 non-null   float64\n",
      " 93   Interest Coverage Ratio (Interest expense to EBIT)       6819 non-null   float64\n",
      " 94   Net Income Flag                                          6819 non-null   int64  \n",
      " 95   Equity to Liability                                      6819 non-null   float64\n",
      "dtypes: float64(93), int64(3)\n",
      "memory usage: 5.0 MB\n"
     ]
    }
   ],
   "source": [
    "df.info()"
   ]
  },
  {
   "cell_type": "markdown",
   "metadata": {},
   "source": [
    "### 2. Affichage de la fréquence de banqueroute\n"
   ]
  },
  {
   "cell_type": "code",
   "execution_count": 8,
   "metadata": {},
   "outputs": [
    {
     "data": {
      "text/plain": [
       "3.2262795131250916"
      ]
     },
     "execution_count": 8,
     "metadata": {},
     "output_type": "execute_result"
    }
   ],
   "source": [
    "df[\"Bankrupt?\"].mean() *100"
   ]
  },
  {
   "cell_type": "markdown",
   "metadata": {},
   "source": [
    "### 3. Réalisation du  split en jeu d'entraînement et jeu d'apprentissage\n"
   ]
  },
  {
   "cell_type": "code",
   "execution_count": 9,
   "metadata": {},
   "outputs": [
    {
     "name": "stdout",
     "output_type": "stream",
     "text": [
      "Bankrupt frequency in train set : 3.142677561282212 %\n",
      "Bankrupt frequency in test set : 3.4213098729227758 %\n"
     ]
    }
   ],
   "source": [
    "X = df.drop('Bankrupt?', axis=1)\n",
    "y = df[\"Bankrupt?\"]\n",
    "X_train, X_test, y_train, y_test = train_test_split(X, y, test_size=.3)\n",
    "print(\"Bankrupt frequency in train set :\", y_train.mean()*100, \"%\")\n",
    "print(\"Bankrupt frequency in test set :\", y_test.mean()*100, \"%\")\n"
   ]
  },
  {
   "cell_type": "markdown",
   "metadata": {},
   "source": [
    "### 4. Appliquation de l'algorithme de RandomForest sur le jeu d'entraînement\n"
   ]
  },
  {
   "cell_type": "code",
   "execution_count": 10,
   "metadata": {},
   "outputs": [],
   "source": [
    "clf = RandomForestClassifier(n_estimators=100,n_jobs=-1).fit(X_train, y_train)"
   ]
  },
  {
   "cell_type": "markdown",
   "metadata": {},
   "source": [
    "### 5. Affichage le F1score obtenu, la matrice de confusion et la courbe ROC\n"
   ]
  },
  {
   "cell_type": "code",
   "execution_count": 11,
   "metadata": {},
   "outputs": [],
   "source": [
    "def plot_roc(y_test, y_proba):\n",
    "    \"\"\"\n",
    "    Courbe ROC d'un problème de classification binaire\n",
    "    \"\"\"\n",
    "    # Selection des probabilité des la classe 1\n",
    "    # Calcul des indices de la courbe ROC\n",
    "    fpr, tpr, threshold = roc_curve(y_test, y_proba)\n",
    "    # Calcul aire sous la courbe : AUC\n",
    "    roc_auc = auc(fpr, tpr)\n",
    "    # Affichage de la courbe\n",
    "    plt.plot(fpr, tpr,\n",
    "             label='ROC curve (area = {0:0.2f})'\n",
    "                   ''.format(roc_auc),\n",
    "             color='blue', linewidth=2)\n",
    "    # Droite représentant une sélection alétoire\n",
    "    plt.plot([0, 1], [0, 1], 'k--', lw=1)\n",
    "    # Limites du tracé\n",
    "    plt.xlim([0.0, 1.0])\n",
    "    plt.ylim([0.0, 1.05])\n",
    "    # Labels des axes\n",
    "    plt.xlabel('False Positive Rate')\n",
    "    plt.ylabel('True Positive Rate')\n",
    "    # Titre\n",
    "    plt.title('Receiver Operating Carateristic Curve')\n",
    "    # Légende\n",
    "    plt.legend(loc=\"lower right\")\n",
    "    # Display\n",
    "    plt.show()"
   ]
  },
  {
   "cell_type": "code",
   "execution_count": 12,
   "metadata": {},
   "outputs": [],
   "source": [
    "def plot_metrics(y_test, y_pred):\n",
    "    ac_sc = accuracy_score(y_test, y_pred)\n",
    "    rc_sc = recall_score(y_test, y_pred)\n",
    "    pr_sc = precision_score(y_test, y_pred)\n",
    "    f1_sc = f1_score(y_test, y_pred)\n",
    "\n",
    "    print(\"========== Decision tree y_preds ==========\")\n",
    "    print(\"Accuracy    : \", ac_sc)\n",
    "    print(\"Recall      : \", rc_sc)\n",
    "    print(\"Precision   : \", pr_sc)\n",
    "    print(\"F1 Score    : \", f1_sc)\n",
    "    print(\"Confusion Matrix: \")\n",
    "    print(pd.crosstab(y_test, y_pred, colnames=['predicted value']))"
   ]
  },
  {
   "cell_type": "code",
   "execution_count": 13,
   "metadata": {},
   "outputs": [
    {
     "name": "stdout",
     "output_type": "stream",
     "text": [
      "========== Decision tree y_preds ==========\n",
      "Accuracy    :  0.9721407624633431\n",
      "Recall      :  0.2571428571428571\n",
      "Precision   :  0.782608695652174\n",
      "F1 Score    :  0.3870967741935484\n",
      "Confusion Matrix: \n",
      "predicted value     0   1\n",
      "Bankrupt?                \n",
      "0                1971   5\n",
      "1                  52  18\n"
     ]
    }
   ],
   "source": [
    "plot_metrics(y_test, clf.predict(X_test))"
   ]
  },
  {
   "cell_type": "code",
   "execution_count": 14,
   "metadata": {},
   "outputs": [
    {
     "data": {
      "image/png": "[encoded data removed]",
      "text/plain": [
       "<Figure size 432x288 with 1 Axes>"
      ]
     },
     "metadata": {
      "needs_background": "light"
     },
     "output_type": "display_data"
    }
   ],
   "source": [
    "plot_roc(y_test, pd.DataFrame(clf.predict_proba(X_test))[1])"
   ]
  },
  {
   "cell_type": "markdown",
   "metadata": {},
   "source": [
    "### 6. Affichage l'importance des variables\n"
   ]
  },
  {
   "cell_type": "code",
   "execution_count": 15,
   "metadata": {},
   "outputs": [
    {
     "data": {
      "text/plain": [
       "<BarContainer object of 15 artists>"
      ]
     },
     "execution_count": 15,
     "metadata": {},
     "output_type": "execute_result"
    },
    {
     "data": {
      "image/png": "[encoded data removed]",
      "text/plain": [
       "<Figure size 432x288 with 1 Axes>"
      ]
     },
     "metadata": {
      "needs_background": "light"
     },
     "output_type": "display_data"
    }
   ],
   "source": [
    "# Récupération  des importances des features du modèle\n",
    "feat_importances = pd.Series(clf.feature_importances_, name=\"importance\")\n",
    "# importance des variables en Dataframe :\n",
    "importances = pd.concat([pd.Series(X_train.columns, name=\"feature\"), \n",
    "                         feat_importances], axis=1)\n",
    "importances.head()\n",
    "\n",
    "# Ne gardons que les 15 features les plus importantes :\n",
    "importances = importances.sort_values(\"importance\", ascending=True).tail(15)\n",
    "\n",
    "plt.barh(importances.feature, importances.importance, color=\"r\" )"
   ]
  },
  {
   "cell_type": "markdown",
   "metadata": {},
   "source": [
    "### 7. Appliquationd de l'algorithme de Grandient Boosting Classifier sur le jeu d'entraînement\n"
   ]
  },
  {
   "cell_type": "code",
   "execution_count": 16,
   "metadata": {},
   "outputs": [],
   "source": [
    "clf = GradientBoostingClassifier(n_estimators=100).fit(X_train, y_train)"
   ]
  },
  {
   "cell_type": "markdown",
   "metadata": {},
   "source": [
    "### 8. Affichage du score obtenu, la matrice de confusion et la courbe ROC\n"
   ]
  },
  {
   "cell_type": "code",
   "execution_count": 17,
   "metadata": {},
   "outputs": [
    {
     "name": "stdout",
     "output_type": "stream",
     "text": [
      "========== Decision tree y_preds ==========\n",
      "Accuracy    :  0.9633431085043989\n",
      "Recall      :  0.2571428571428571\n",
      "Precision   :  0.43902439024390244\n",
      "F1 Score    :  0.32432432432432434\n",
      "Confusion Matrix: \n",
      "predicted value     0   1\n",
      "Bankrupt?                \n",
      "0                1953  23\n",
      "1                  52  18\n"
     ]
    }
   ],
   "source": [
    "plot_metrics(y_test, clf.predict(X_test))"
   ]
  },
  {
   "cell_type": "code",
   "execution_count": 18,
   "metadata": {},
   "outputs": [
    {
     "data": {
      "image/png": "[encoded data removed]",
      "text/plain": [
       "<Figure size 432x288 with 1 Axes>"
      ]
     },
     "metadata": {
      "needs_background": "light"
     },
     "output_type": "display_data"
    }
   ],
   "source": [
    "plot_roc(y_test, pd.DataFrame(clf.predict_proba(X_test))[1])"
   ]
  },
  {
   "cell_type": "code",
   "execution_count": 19,
   "metadata": {},
   "outputs": [
    {
     "data": {
      "text/plain": [
       "2041    0.003343\n",
       "2042    0.026026\n",
       "2043    0.002233\n",
       "2044    0.003876\n",
       "2045    0.002235\n",
       "Name: 1, dtype: float64"
      ]
     },
     "execution_count": 19,
     "metadata": {},
     "output_type": "execute_result"
    }
   ],
   "source": [
    " pd.DataFrame(clf.predict_proba(X_test))[1].tail()"
   ]
  },
  {
   "cell_type": "markdown",
   "metadata": {},
   "source": [
    "### 9. Affichage l'importance des variables\n"
   ]
  },
  {
   "cell_type": "code",
   "execution_count": 20,
   "metadata": {},
   "outputs": [
    {
     "data": {
      "text/plain": [
       "<BarContainer object of 15 artists>"
      ]
     },
     "execution_count": 20,
     "metadata": {},
     "output_type": "execute_result"
    },
    {
     "data": {
      "image/png": "[encoded data removed]",
      "text/plain": [
       "<Figure size 432x288 with 1 Axes>"
      ]
     },
     "metadata": {
      "needs_background": "light"
     },
     "output_type": "display_data"
    }
   ],
   "source": [
    "# Récupération les importances des features du modèle\n",
    "feat_importances = pd.Series(clf.feature_importances_, name=\"importance\")\n",
    "# importance des variables en Dataframe :\n",
    "importances = pd.concat([pd.Series(X_train.columns, name=\"feature\"), \n",
    "                         feat_importances], axis=1)\n",
    "importances.head()\n",
    "\n",
    "# Ne gardons que les 15 features les plus importantes :\n",
    "importances = importances.sort_values(\"importance\", ascending=True).tail(15)\n",
    "\n",
    "plt.barh(importances.feature, importances.importance, color=\"r\" )"
   ]
  },
  {
   "cell_type": "markdown",
   "metadata": {},
   "source": [
    "### 10. Appliquation sur les mêmes données l'algorithme [LightGbm](https://lightgbm.readthedocs.io/en/latest/Python-Intro.html) pour prédire la banqueroute"
   ]
  },
  {
   "cell_type": "code",
   "execution_count": 21,
   "metadata": {},
   "outputs": [],
   "source": [
    "import lightgbm as lgb"
   ]
  },
  {
   "cell_type": "code",
   "execution_count": 22,
   "metadata": {},
   "outputs": [
    {
     "name": "stdout",
     "output_type": "stream",
     "text": [
      "[LightGBM] [Warning] Found whitespace in feature_names, replace with underlines\n",
      "[LightGBM] [Info] Number of positive: 150, number of negative: 4623\n",
      "[LightGBM] [Info] Auto-choosing col-wise multi-threading, the overhead of testing was 0.004307 seconds.\n",
      "You can set `force_col_wise=true` to remove the overhead.\n",
      "[LightGBM] [Info] Total Bins 23714\n",
      "[LightGBM] [Info] Number of data points in the train set: 4773, number of used features: 93\n",
      "[LightGBM] [Info] [binary:BoostFromScore]: pavg=0.031427 -> initscore=-3.428164\n",
      "[LightGBM] [Info] Start training from score -3.428164\n"
     ]
    }
   ],
   "source": [
    "clf = lgb.LGBMClassifier(n_jobs=-1).fit(X_train, y_train)"
   ]
  },
  {
   "cell_type": "code",
   "execution_count": 23,
   "metadata": {},
   "outputs": [
    {
     "name": "stdout",
     "output_type": "stream",
     "text": [
      "========== Decision tree y_preds ==========\n",
      "Accuracy    :  0.9731182795698925\n",
      "Recall      :  0.32857142857142857\n",
      "Precision   :  0.7419354838709677\n",
      "F1 Score    :  0.45544554455445546\n",
      "Confusion Matrix: \n",
      "predicted value     0   1\n",
      "Bankrupt?                \n",
      "0                1968   8\n",
      "1                  47  23\n"
     ]
    }
   ],
   "source": [
    "plot_metrics(y_test, clf.predict(X_test))"
   ]
  },
  {
   "cell_type": "code",
   "execution_count": 24,
   "metadata": {},
   "outputs": [
    {
     "data": {
      "image/png": "[encoded data removed]",
      "text/plain": [
       "<Figure size 432x288 with 1 Axes>"
      ]
     },
     "metadata": {
      "needs_background": "light"
     },
     "output_type": "display_data"
    }
   ],
   "source": [
    "plot_roc(y_test, pd.DataFrame(clf.predict_proba(X_test))[1])"
   ]
  },
  {
   "cell_type": "code",
   "execution_count": 25,
   "metadata": {},
   "outputs": [
    {
     "name": "stdout",
     "output_type": "stream",
     "text": [
      "Requirement already satisfied: optuna in c:\\users\\33613\\anaconda3\\lib\\site-packages (3.6.1)\n",
      "Requirement already satisfied: alembic>=1.5.0 in c:\\users\\33613\\anaconda3\\lib\\site-packages (from optuna) (1.13.2)\n",
      "Requirement already satisfied: tqdm in c:\\users\\33613\\anaconda3\\lib\\site-packages (from optuna) (4.62.3)\n",
      "Requirement already satisfied: sqlalchemy>=1.3.0 in c:\\users\\33613\\anaconda3\\lib\\site-packages (from optuna) (1.4.22)\n",
      "Requirement already satisfied: numpy in c:\\users\\33613\\anaconda3\\lib\\site-packages (from optuna) (1.20.3)\n",
      "Requirement already satisfied: colorlog in c:\\users\\33613\\anaconda3\\lib\\site-packages (from optuna) (6.8.2)\n",
      "Requirement already satisfied: packaging>=20.0 in c:\\users\\33613\\anaconda3\\lib\\site-packages (from optuna) (21.0)\n",
      "Requirement already satisfied: PyYAML in c:\\users\\33613\\anaconda3\\lib\\site-packages (from optuna) (6.0)\n",
      "Requirement already satisfied: typing-extensions>=4 in c:\\users\\33613\\anaconda3\\lib\\site-packages (from alembic>=1.5.0->optuna) (4.12.2)\n",
      "Requirement already satisfied: Mako in c:\\users\\33613\\anaconda3\\lib\\site-packages (from alembic>=1.5.0->optuna) (1.3.5)\n",
      "Requirement already satisfied: pyparsing>=2.0.2 in c:\\users\\33613\\anaconda3\\lib\\site-packages (from packaging>=20.0->optuna) (3.0.4)\n",
      "Requirement already satisfied: greenlet!=0.4.17 in c:\\users\\33613\\anaconda3\\lib\\site-packages (from sqlalchemy>=1.3.0->optuna) (1.1.1)\n",
      "Requirement already satisfied: colorama in c:\\users\\33613\\anaconda3\\lib\\site-packages (from colorlog->optuna) (0.4.4)\n",
      "Requirement already satisfied: MarkupSafe>=0.9.2 in c:\\users\\33613\\anaconda3\\lib\\site-packages (from Mako->alembic>=1.5.0->optuna) (1.1.1)\n"
     ]
    }
   ],
   "source": [
    "!pip install -U optuna"
   ]
  },
  {
   "cell_type": "code",
   "execution_count": null,
   "metadata": {},
   "outputs": [],
   "source": [
    "!pip install optuna\n"
   ]
  },
  {
   "cell_type": "code",
   "execution_count": 28,
   "metadata": {},
   "outputs": [
    {
     "name": "stdout",
     "output_type": "stream",
     "text": [
      "Requirement already satisfied: optuna in c:\\users\\33613\\anaconda3\\lib\\site-packages (3.6.1)\n",
      "Requirement already satisfied: lightgbm in c:\\users\\33613\\anaconda3\\lib\\site-packages (4.4.0)\n",
      "Requirement already satisfied: colorlog in c:\\users\\33613\\anaconda3\\lib\\site-packages (from optuna) (6.8.2)\n",
      "Requirement already satisfied: alembic>=1.5.0 in c:\\users\\33613\\anaconda3\\lib\\site-packages (from optuna) (1.13.2)\n",
      "Requirement already satisfied: packaging>=20.0 in c:\\users\\33613\\anaconda3\\lib\\site-packages (from optuna) (21.0)\n",
      "Requirement already satisfied: tqdm in c:\\users\\33613\\anaconda3\\lib\\site-packages (from optuna) (4.62.3)\n",
      "Requirement already satisfied: sqlalchemy>=1.3.0 in c:\\users\\33613\\anaconda3\\lib\\site-packages (from optuna) (1.4.22)\n",
      "Requirement already satisfied: numpy in c:\\users\\33613\\anaconda3\\lib\\site-packages (from optuna) (1.20.3)\n",
      "Requirement already satisfied: PyYAML in c:\\users\\33613\\anaconda3\\lib\\site-packages (from optuna) (6.0)\n",
      "Requirement already satisfied: scipy in c:\\users\\33613\\anaconda3\\lib\\site-packages (from lightgbm) (1.7.1)\n",
      "Requirement already satisfied: Mako in c:\\users\\33613\\anaconda3\\lib\\site-packages (from alembic>=1.5.0->optuna) (1.3.5)\n",
      "Requirement already satisfied: typing-extensions>=4 in c:\\users\\33613\\anaconda3\\lib\\site-packages (from alembic>=1.5.0->optuna) (4.12.2)\n",
      "Requirement already satisfied: pyparsing>=2.0.2 in c:\\users\\33613\\anaconda3\\lib\\site-packages (from packaging>=20.0->optuna) (3.0.4)\n",
      "Requirement already satisfied: greenlet!=0.4.17 in c:\\users\\33613\\anaconda3\\lib\\site-packages (from sqlalchemy>=1.3.0->optuna) (1.1.1)\n",
      "Requirement already satisfied: colorama in c:\\users\\33613\\anaconda3\\lib\\site-packages (from colorlog->optuna) (0.4.4)\n",
      "Requirement already satisfied: MarkupSafe>=0.9.2 in c:\\users\\33613\\anaconda3\\lib\\site-packages (from Mako->alembic>=1.5.0->optuna) (1.1.1)\n",
      "Note: you may need to restart the kernel to use updated packages.\n"
     ]
    }
   ],
   "source": [
    "pip install optuna lightgbm\n"
   ]
  },
  {
   "cell_type": "code",
   "execution_count": 29,
   "metadata": {
    "scrolled": false
   },
   "outputs": [
    {
     "ename": "ModuleNotFoundError",
     "evalue": "No module named 'optuna_integration'",
     "output_type": "error",
     "traceback": [
      "\u001b[1;31m---------------------------------------------------------------------------\u001b[0m",
      "\u001b[1;31mModuleNotFoundError\u001b[0m                       Traceback (most recent call last)",
      "\u001b[1;32m~\\AppData\\Local\\Temp/ipykernel_13432/2638532708.py\u001b[0m in \u001b[0;36m<module>\u001b[1;34m\u001b[0m\n\u001b[1;32m----> 1\u001b[1;33m \u001b[1;32mimport\u001b[0m \u001b[0moptuna\u001b[0m\u001b[1;33m.\u001b[0m\u001b[0mintegration\u001b[0m\u001b[1;33m.\u001b[0m\u001b[0mlightgbm\u001b[0m \u001b[1;32mas\u001b[0m \u001b[0mlgb2\u001b[0m\u001b[1;33m\u001b[0m\u001b[1;33m\u001b[0m\u001b[0m\n\u001b[0m",
      "\u001b[1;32m~\\anaconda3\\lib\\site-packages\\optuna\\integration\\lightgbm.py\u001b[0m in \u001b[0;36m<module>\u001b[1;34m\u001b[0m\n\u001b[0;32m      5\u001b[0m \u001b[1;32mfrom\u001b[0m \u001b[0mtyping\u001b[0m \u001b[1;32mimport\u001b[0m \u001b[0mTYPE_CHECKING\u001b[0m\u001b[1;33m\u001b[0m\u001b[1;33m\u001b[0m\u001b[0m\n\u001b[0;32m      6\u001b[0m \u001b[1;33m\u001b[0m\u001b[0m\n\u001b[1;32m----> 7\u001b[1;33m \u001b[1;32mimport\u001b[0m \u001b[0moptuna_integration\u001b[0m\u001b[1;33m.\u001b[0m\u001b[0mlightgbm\u001b[0m \u001b[1;32mas\u001b[0m \u001b[0mlgb\u001b[0m\u001b[1;33m\u001b[0m\u001b[1;33m\u001b[0m\u001b[0m\n\u001b[0m\u001b[0;32m      8\u001b[0m \u001b[1;33m\u001b[0m\u001b[0m\n\u001b[0;32m      9\u001b[0m \u001b[1;33m\u001b[0m\u001b[0m\n",
      "\u001b[1;31mModuleNotFoundError\u001b[0m: No module named 'optuna_integration'"
     ]
    }
   ],
   "source": [
    "import optuna.integration.lightgbm as lgb2"
   ]
  },
  {
   "cell_type": "code",
   "execution_count": 36,
   "metadata": {},
   "outputs": [],
   "source": [
    "import optuna.integration\n",
    "import lightgbm as lgb2\n"
   ]
  },
  {
   "cell_type": "code",
   "execution_count": 37,
   "metadata": {},
   "outputs": [],
   "source": [
    "dtrain = lgb.Dataset(X_train, label=y_train)\n",
    "dval = lgb.Dataset(X_test, label=y_test)"
   ]
  },
  {
   "cell_type": "code",
   "execution_count": 38,
   "metadata": {},
   "outputs": [],
   "source": [
    "from sklearn.metrics import *"
   ]
  },
  {
   "cell_type": "code",
   "execution_count": 54,
   "metadata": {},
   "outputs": [
    {
     "ename": "TypeError",
     "evalue": "train() got an unexpected keyword argument 'verbose_eval'",
     "output_type": "error",
     "traceback": [
      "\u001b[1;31m---------------------------------------------------------------------------\u001b[0m",
      "\u001b[1;31mTypeError\u001b[0m                                 Traceback (most recent call last)",
      "\u001b[1;32m~\\AppData\\Local\\Temp/ipykernel_13432/1966318778.py\u001b[0m in \u001b[0;36m<module>\u001b[1;34m\u001b[0m\n\u001b[0;32m      9\u001b[0m }\n\u001b[0;32m     10\u001b[0m \u001b[1;33m\u001b[0m\u001b[0m\n\u001b[1;32m---> 11\u001b[1;33m booster = lgb2.train(params, train_set=dtrain, valid_sets=dval,\n\u001b[0m\u001b[0;32m     12\u001b[0m                     verbose_eval=0)\n\u001b[0;32m     13\u001b[0m \u001b[1;33m\u001b[0m\u001b[0m\n",
      "\u001b[1;31mTypeError\u001b[0m: train() got an unexpected keyword argument 'verbose_eval'"
     ]
    }
   ],
   "source": [
    "n_classes = y_train.value_counts()\n",
    "params = {\n",
    "        'objective': 'binary',\n",
    "        'metric': 'binary_logloss',\n",
    "        'verbosity': -1,\n",
    "        'boosting_type': 'gbdt',\n",
    "        'scale_pos_weight':n_classes[0]/n_classes[1],\n",
    "        'n_jobs':-1\n",
    "}\n",
    "\n",
    "booster = lgb2.train(params, train_set=dtrain, valid_sets=dval,\n",
    "                    verbose_eval=0)\n",
    " \n",
    "print(\"Best Params:\", best_params)\n",
    "print(\"Tuning history:\", tuning_history)"
   ]
  },
  {
   "cell_type": "code",
   "execution_count": 44,
   "metadata": {},
   "outputs": [
    {
     "data": {
      "text/plain": [
       "{'objective': 'binary',\n",
       " 'metric': 'binary_logloss',\n",
       " 'verbosity': -1,\n",
       " 'boosting_type': 'gbdt',\n",
       " 'scale_pos_weight': 30.82,\n",
       " 'n_jobs': -1,\n",
       " 'num_iterations': 100}"
      ]
     },
     "execution_count": 44,
     "metadata": {},
     "output_type": "execute_result"
    }
   ],
   "source": [
    "booster.params"
   ]
  },
  {
   "cell_type": "code",
   "execution_count": 45,
   "metadata": {},
   "outputs": [],
   "source": [
    "y_pred = booster.predict(X_test)"
   ]
  },
  {
   "cell_type": "code",
   "execution_count": 46,
   "metadata": {},
   "outputs": [
    {
     "data": {
      "text/plain": [
       "0    1915\n",
       "1     131\n",
       "dtype: int64"
      ]
     },
     "execution_count": 46,
     "metadata": {},
     "output_type": "execute_result"
    }
   ],
   "source": [
    "pd.Series(np.where(y_pred>=0.032747, 1, 0)).value_counts()"
   ]
  },
  {
   "cell_type": "code",
   "execution_count": null,
   "metadata": {},
   "outputs": [],
   "source": [
    "plot_roc(y_test, y_pred)"
   ]
  },
  {
   "cell_type": "code",
   "execution_count": 47,
   "metadata": {},
   "outputs": [],
   "source": [
    "# Détermination du seuil de classification\n",
    "def set_threshold(probs, crit, crit_val):\n",
    "    if crit==\"fixed_pos\":\n",
    "        thresh = np.sort(probs)[::-1][crit_val-1]\n",
    "    return thresh"
   ]
  },
  {
   "cell_type": "code",
   "execution_count": 48,
   "metadata": {},
   "outputs": [],
   "source": [
    "y_prob = booster.predict(X_test)\n",
    "# Coefficients de la courbe ROC\n",
    "gbm_fpr, gbm_tpr, gbm_thresholds = roc_curve(y_test, y_prob)\n",
    "# Coefficients de la courbe PR\n",
    "gbm_precision, _ , gbm_precision_thresh= precision_recall_curve(y_test, y_prob)\n",
    "# Axe des X, observations où la population correspond aux\n",
    "# 100 plus grandes probabilités prédites, 500 plus grandes, ...\n",
    "tr_crit_vals = np.arange(1, len(y_pred), 10)\n",
    "values=[]\n",
    "tr_crit= \"fixed_pos\"\n",
    "\n",
    "for crit_val in tr_crit_vals:\n",
    "#     print('For tr_crit_val = ' + str(crit_val))\n",
    "#     print('Target population = ' + str(crit_val))\n",
    "    # Calcul du seuil de probabilité associé à la population\n",
    "    # population = crit_val\n",
    "    tresh = set_threshold(probs=y_prob, crit=tr_crit, crit_val=crit_val) \n",
    "#     print(\"Treshold = \" + str(tresh))\n",
    "    \n",
    "    y_pred_val = np.where(y_prob >=tresh, 1, 0)\n",
    "\n",
    "    # Print confusion matrix\n",
    "#     print(pd.DataFrame(confusion_matrix(y_test, y_pred_val), [\"Actual-0\",\"Actual-1\"], [\"Predicted-0\",\"Predicted-1\"]))\n",
    "    # Generate classification report\n",
    "    clfr = classification_report(y_test, y_pred_val)\n",
    "   \n",
    "    prec = float(clfr[128:132]) # Get precision for class 1\n",
    "    recall = float(clfr[138:142]) # Get recall for class 1\n",
    "#     print(clfr)\n",
    "    values.append([crit_val, prec, recall])\n",
    "#     print(\"Accuracy:\" + str(accuracy_score(y_test, y_pred_val)))\n",
    "#     print(\"\\n\")\n",
    "# Transformation des données en dataframe\n",
    "lift_data = pd.DataFrame(values, columns=['population', 'precision', 'recall'])\n",
    "# Ajout frequence de base d'apparition de la classe 1\n",
    "lift_data['target_base_frequency'] = y_test.mean()"
   ]
  },
  {
   "cell_type": "code",
   "execution_count": 49,
   "metadata": {},
   "outputs": [
    {
     "data": {
      "text/html": [
       "<div>\n",
       "<style scoped>\n",
       "    .dataframe tbody tr th:only-of-type {\n",
       "        vertical-align: middle;\n",
       "    }\n",
       "\n",
       "    .dataframe tbody tr th {\n",
       "        vertical-align: top;\n",
       "    }\n",
       "\n",
       "    .dataframe thead th {\n",
       "        text-align: right;\n",
       "    }\n",
       "</style>\n",
       "<table border=\"1\" class=\"dataframe\">\n",
       "  <thead>\n",
       "    <tr style=\"text-align: right;\">\n",
       "      <th></th>\n",
       "      <th>population</th>\n",
       "      <th>precision</th>\n",
       "      <th>recall</th>\n",
       "      <th>target_base_frequency</th>\n",
       "    </tr>\n",
       "  </thead>\n",
       "  <tbody>\n",
       "    <tr>\n",
       "      <th>31</th>\n",
       "      <td>311</td>\n",
       "      <td>0.2</td>\n",
       "      <td>0.87</td>\n",
       "      <td>0.034213</td>\n",
       "    </tr>\n",
       "  </tbody>\n",
       "</table>\n",
       "</div>"
      ],
      "text/plain": [
       "    population  precision  recall  target_base_frequency\n",
       "31         311        0.2    0.87               0.034213"
      ]
     },
     "execution_count": 49,
     "metadata": {},
     "output_type": "execute_result"
    }
   ],
   "source": [
    "lift_data[lift_data.precision>=0.2].tail(1)"
   ]
  },
  {
   "cell_type": "code",
   "execution_count": 50,
   "metadata": {},
   "outputs": [],
   "source": [
    "lift_data['target_prec'] = 0.2"
   ]
  },
  {
   "cell_type": "code",
   "execution_count": 51,
   "metadata": {},
   "outputs": [
    {
     "data": {
      "text/plain": [
       "Text(0.5, 1.0, \"Évolution de la précision et du recall en fonction des probabilités d'être en banqueroute\")"
      ]
     },
     "execution_count": 51,
     "metadata": {},
     "output_type": "execute_result"
    },
    {
     "data": {
      "image/png": "[encoded data removed]",
      "text/plain": [
       "<Figure size 864x648 with 1 Axes>"
      ]
     },
     "metadata": {
      "needs_background": "light"
     },
     "output_type": "display_data"
    }
   ],
   "source": [
    "fig, ax1 = plt.subplots(figsize=(12,9))\n",
    "color = 'tab:red'\n",
    "ax1.set_xlabel('population')\n",
    "ax1.set_ylabel('prec, recall(%)', color=color)\n",
    "# Evolution precision recall en fonction du seuil de probabilite\n",
    "ax1.plot(lift_data[\"population\"], lift_data[\"precision\"], color=color, label='precision')\n",
    "ax1.plot(lift_data[\"population\"], lift_data[\"recall\"], color=\"tab:orange\", label='recall' )\n",
    "ax1.tick_params(axis='y', labelcolor=color)\n",
    "ax1.plot(lift_data[\"population\"], lift_data['target_base_frequency'], color='blue', label=\"target natural rate\")\n",
    "ax1.plot(lift_data[\"population\"], lift_data['target_prec'], color='gray', alpha=.5, label=\"target natural rate\")\n",
    "ax1.plot([291 for x in range(len(lift_data))], \n",
    "         np.arange(0, 1, step=1/len(lift_data)), \n",
    "         color='gray', alpha=.5, \n",
    "         label=\"target natural rate\")\n",
    "\n",
    "fig.legend()\n",
    "plt.title(\"Évolution de la précision et du recall en fonction des probabilités d'être en banqueroute\")"
   ]
  },
  {
   "cell_type": "code",
   "execution_count": 52,
   "metadata": {},
   "outputs": [
    {
     "data": {
      "text/plain": [
       "0    1976\n",
       "1      70\n",
       "Name: Bankrupt?, dtype: int64"
      ]
     },
     "execution_count": 52,
     "metadata": {},
     "output_type": "execute_result"
    }
   ],
   "source": [
    "y_test.value_counts()"
   ]
  },
  {
   "cell_type": "code",
   "execution_count": 53,
   "metadata": {},
   "outputs": [
    {
     "data": {
      "text/plain": [
       "0    6599\n",
       "1     220\n",
       "Name: Bankrupt?, dtype: int64"
      ]
     },
     "execution_count": 53,
     "metadata": {},
     "output_type": "execute_result"
    }
   ],
   "source": [
    "df['Bankrupt?'].value_counts()"
   ]
  }
 ],
 "metadata": {
  "kernelspec": {
   "display_name": "Python 3 (ipykernel)",
   "language": "python",
   "name": "python3"
  },
  "language_info": {
   "codemirror_mode": {
    "name": "ipython",
    "version": 3
   },
   "file_extension": ".py",
   "mimetype": "text/x-python",
   "name": "python",
   "nbconvert_exporter": "python",
   "pygments_lexer": "ipython3",
   "version": "3.9.7"
  },
  "latex_envs": {
   "LaTeX_envs_menu_present": true,
   "autoclose": false,
   "autocomplete": true,
   "bibliofile": "biblio.bib",
   "cite_by": "apalike",
   "current_citInitial": 1,
   "eqLabelWithNumbers": true,
   "eqNumInitial": 1,
   "hotkeys": {
    "equation": "Ctrl-E",
    "itemize": "Ctrl-I"
   },
   "labels_anchors": false,
   "latex_user_defs": false,
   "report_style_numbering": false,
   "user_envs_cfg": false
  },
  "varInspector": {
   "cols": {
    "lenName": 16,
    "lenType": 16,
    "lenVar": 40
   },
   "kernels_config": {
    "python": {
     "delete_cmd_postfix": "",
     "delete_cmd_prefix": "del ",
     "library": "var_list.py",
     "varRefreshCmd": "print(var_dic_list())"
    },
    "r": {
     "delete_cmd_postfix": ") ",
     "delete_cmd_prefix": "rm(",
     "library": "var_list.r",
     "varRefreshCmd": "cat(var_dic_list()) "
    }
   },
   "types_to_exclude": [
    "module",
    "function",
    "builtin_function_or_method",
    "instance",
    "_Feature"
   ],
   "window_display": false
  }
 },
 "nbformat": 4,
 "nbformat_minor": 4
}
